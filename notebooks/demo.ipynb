{
 "cells": [
  {
   "cell_type": "markdown",
   "id": "0",
   "metadata": {},
   "source": [
    "<p align=\"left\" >\n",
    "<a href='https://carbonplan.org'>\n",
    "<picture>\n",
    "  <source media=\"(prefers-color-scheme: dark)\" srcset=\"https://carbonplan-assets.s3.amazonaws.com/monogram/light-small.png\">\n",
    "  <img alt=\"CarbonPlan monogram.\" width=\"48\" src=\"https://carbonplan-assets.s3.amazonaws.com/monogram/dark-small.png\">\n",
    "</picture>\n",
    "</a>\n",
    "</p>\n",
    "\n",
    "# Demo map data preparation\n",
    "\n",
    "_by Joe Hamman & Jeremy Freeman (CarbonPlan), September 27, 2021, Updated by Max Jones (CarbonPlan), February 8, 2024_\n",
    "\n",
    "This notebook demonstrates the production of Zarr data pyramids for use with\n",
    "[`@carbonplan/maps`](https://github.com/carbonplan/maps), an api for interactive\n",
    "multi-dimensional data-driven web maps.\n",
    "\n",
    "Some of the libraries used here are in pre-release condition. Specifically\n",
    "`ndpyramid` and `datatree` are currently udergoing rapid development. Use the\n",
    "pattern below but expect changes to the specific apis.\n",
    "\n",
    "All of the libraries used in this demonstration are included in [this conda environment file](https://github.com/carbonplan/ndpyramid/blob/main/ci/environment.yml).\n"
   ]
  },
  {
   "cell_type": "code",
   "execution_count": null,
   "id": "1",
   "metadata": {},
   "outputs": [],
   "source": [
    "import pandas as pd\n",
    "import xarray as xr\n",
    "\n",
    "from ndpyramid import pyramid_reproject"
   ]
  },
  {
   "cell_type": "code",
   "execution_count": null,
   "id": "2",
   "metadata": {},
   "outputs": [],
   "source": [
    "VERSION = 2\n",
    "LEVELS = 6\n",
    "PIXELS_PER_TILE = 128\n",
    "S3 = False\n",
    "input_path = f\"s3://carbonplan-maps/v{VERSION}/demo/raw\"\n",
    "if S3:\n",
    "    base = f\"s3://carbonplan-maps/v{VERSION}/demo/\"\n",
    "    store_2d = base + \"2d/tavg\"\n",
    "    store_3d = base + \"3d/tavg-prec\"\n",
    "    store_3d_1var = base + \"3d/tavg-month\"\n",
    "    store_4d = base + \"4d/tavg-prec-month\"\n",
    "else:\n",
    "    import zarr\n",
    "\n",
    "    store_2d = zarr.storage.MemoryStore()\n",
    "    store_3d = zarr.storage.MemoryStore()\n",
    "    store_3d_1var = zarr.storage.MemoryStore()\n",
    "    store_4d = zarr.storage.MemoryStore()"
   ]
  },
  {
   "cell_type": "markdown",
   "id": "3",
   "metadata": {},
   "source": [
    "## 2d (tavg)\n",
    "\n",
    "In this example we open a single 2d image (GeoTIFF) and create a Zarr pyramid.\n"
   ]
  },
  {
   "cell_type": "code",
   "execution_count": null,
   "id": "4",
   "metadata": {},
   "outputs": [],
   "source": [
    "%%time\n",
    "# input dataset\n",
    "path = f\"{input_path}/wc2.1_2.5m_tavg_10.tif\"\n",
    "# open and extract the input dataset\n",
    "ds = (\n",
    "    xr.open_dataarray(path, engine=\"rasterio\")\n",
    "    .to_dataset(name=\"tavg\")\n",
    "    .squeeze()\n",
    "    .reset_coords([\"band\"], drop=True)\n",
    ")\n",
    "\n",
    "# create the pyramid\n",
    "dt = pyramid_reproject(ds, levels=LEVELS, clear_attrs=True)\n",
    "\n",
    "# write the pyramid to zarr\n",
    "dt.to_zarr(store_2d, consolidated=True)"
   ]
  },
  {
   "cell_type": "markdown",
   "id": "5",
   "metadata": {},
   "source": [
    "## 3d, two variables (tavg and prec)\n",
    "\n",
    "In this example, we open two 2d images (temperature and precipitation), combine\n",
    "them into a single array (along the `band` dimension), and create a Zarr\n",
    "pyramid.\n"
   ]
  },
  {
   "cell_type": "code",
   "execution_count": null,
   "id": "6",
   "metadata": {},
   "outputs": [],
   "source": [
    "%%time\n",
    "# input datasets\n",
    "path1 = f\"{input_path}/wc2.1_2.5m_tavg_10.tif\"\n",
    "path2 = f\"{input_path}/wc2.1_2.5m_prec_10.tif\"\n",
    "\n",
    "# open and extract the input datasets\n",
    "ds1 = (\n",
    "    xr.open_dataarray(path1, engine=\"rasterio\")\n",
    "    .to_dataset(name=\"climate\")\n",
    "    .squeeze()\n",
    "    .reset_coords([\"band\"], drop=True)\n",
    ")\n",
    "ds2 = (\n",
    "    xr.open_dataarray(path2, engine=\"rasterio\")\n",
    "    .to_dataset(name=\"climate\")\n",
    "    .squeeze()\n",
    "    .reset_coords([\"band\"], drop=True)\n",
    ")\n",
    "ds2[\"climate\"].values[ds2[\"climate\"].values == ds2[\"climate\"].values[0, 0]] = ds1[\"climate\"].values[\n",
    "    0, 0\n",
    "]\n",
    "ds = xr.concat([ds1, ds2], pd.Index([\"tavg\", \"prec\"], name=\"band\"))\n",
    "\n",
    "# create the pyramid\n",
    "dt = pyramid_reproject(ds, levels=LEVELS, other_chunks={'band': 2}, clear_attrs=True)\n",
    "\n",
    "# write the pyramid to zarr\n",
    "dt.to_zarr(store_3d, consolidated=True)"
   ]
  },
  {
   "cell_type": "markdown",
   "id": "7",
   "metadata": {},
   "source": [
    "## 3d, one variable, multiple time points\n",
    "\n",
    "In this example, we open 12 2d images (one map of temperature for each month),\n",
    "combine them into a single array (along the `month` dimension), and create a\n",
    "Zarr pyramid.\n"
   ]
  },
  {
   "cell_type": "code",
   "execution_count": null,
   "id": "8",
   "metadata": {},
   "outputs": [],
   "source": [
    "%%time\n",
    "# open and extract the input datasets\n",
    "ds_all = []\n",
    "months = list(map(lambda d: d + 1, range(12)))\n",
    "for i in months:\n",
    "    path = f\"{input_path}/wc2.1_2.5m_tavg_{i:02g}.tif\"\n",
    "    ds = (\n",
    "        xr.open_dataarray(path, engine=\"rasterio\")\n",
    "        .to_dataset(name=\"tavg\")\n",
    "        .squeeze()\n",
    "        .reset_coords([\"band\"], drop=True)\n",
    "    )\n",
    "    ds_all.append(ds)\n",
    "ds = xr.concat(ds_all, pd.Index(months, name=\"month\"))\n",
    "\n",
    "# create the pyramid\n",
    "dt = pyramid_reproject(ds, levels=LEVELS, other_chunks={'month': 12}, clear_attrs=True)\n",
    "\n",
    "# write the pyramid to zarr\n",
    "dt.to_zarr(store_3d_1var, consolidated=True)"
   ]
  },
  {
   "cell_type": "markdown",
   "id": "9",
   "metadata": {},
   "source": [
    "## 4d, multiple variables, multiple time points\n",
    "\n",
    "In this example, we open 12 2d images for 2 variables (one map of temperature\n",
    "and precipitation for each month), combine them into a single array (along the\n",
    "`month` and `band` dimensions), and create a Zarr pyramid.\n"
   ]
  },
  {
   "cell_type": "code",
   "execution_count": null,
   "id": "10",
   "metadata": {},
   "outputs": [],
   "source": [
    "%%time\n",
    "# open and extract the input datasets\n",
    "ds1_all = []\n",
    "ds2_all = []\n",
    "months = list(map(lambda d: d + 1, range(12)))\n",
    "for i in months:\n",
    "    path = f\"{input_path}/wc2.1_2.5m_tavg_{i:02g}.tif\"\n",
    "    ds = (\n",
    "        xr.open_dataarray(path, engine=\"rasterio\")\n",
    "        .to_dataset(name=\"climate\")\n",
    "        .squeeze()\n",
    "        .reset_coords([\"band\"], drop=True)\n",
    "    )\n",
    "    ds1_all.append(ds)\n",
    "ds1 = xr.concat(ds1_all, pd.Index(months, name=\"month\"))\n",
    "for i in months:\n",
    "    path = f\"{input_path}/wc2.1_2.5m_prec_{i:02g}.tif\"\n",
    "    ds = (\n",
    "        xr.open_dataarray(path, engine=\"rasterio\")\n",
    "        .to_dataset(name=\"climate\")\n",
    "        .squeeze()\n",
    "        .reset_coords([\"band\"], drop=True)\n",
    "    )\n",
    "    ds2_all.append(ds)\n",
    "ds2 = xr.concat(ds2_all, pd.Index(months, name=\"month\"))\n",
    "ds2[\"climate\"].values[ds2[\"climate\"].values == ds2[\"climate\"].values[0, 0, 0]] = ds1[\n",
    "    \"climate\"\n",
    "].values[0, 0, 0]\n",
    "ds = xr.concat([ds1, ds2], pd.Index([\"tavg\", \"prec\"], name=\"band\"))\n",
    "\n",
    "# create the pyramid\n",
    "dt = pyramid_reproject(\n",
    "    ds, levels=LEVELS, extra_dim=\"band\", other_chunks={'band': 2, 'month': 12}, clear_attrs=True\n",
    ")\n",
    "dt.ds.attrs\n",
    "\n",
    "# write the pyramid to zarr\n",
    "dt.to_zarr(store_4d, consolidated=True, mode=\"w\")"
   ]
  },
  {
   "cell_type": "code",
   "execution_count": null,
   "id": "11",
   "metadata": {},
   "outputs": [],
   "source": []
  }
 ],
 "metadata": {
  "language_info": {
   "codemirror_mode": {
    "name": "ipython",
    "version": 3
   },
   "file_extension": ".py",
   "mimetype": "text/x-python",
   "name": "python",
   "nbconvert_exporter": "python",
   "pygments_lexer": "ipython3",
   "version": "3.12.2"
  }
 },
 "nbformat": 4,
 "nbformat_minor": 5
}
