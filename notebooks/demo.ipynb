{
 "cells": [
  {
   "cell_type": "markdown",
   "id": "357f44d1",
   "metadata": {},
   "source": [
    "<img width=\"50\" src=\"https://carbonplan-assets.s3.amazonaws.com/monogram/dark-small.png\" style=\"margin-left:0px;margin-top:20px\"/>\n",
    "\n",
    "# Demo map data preparation\n",
    "\n",
    "_by Joe Hamman & Jeremy Freeman (CarbonPlan), September 27, 2021_\n",
    "\n",
    "This notebook demonstrates the production of Zarr data pyramids for use with\n",
    "[`@carbonplan/maps`](https://github.com/carbonplan/maps), an api for interactive\n",
    "multi-dimensional data-driven web maps.\n",
    "\n",
    "Some of the libraries used here are in pre-release condition. Specifically\n",
    "`ndpyramid` and `datatree` are currently udergoing rapid development. Use the\n",
    "pattern below but expect changes to the specific apis.\n"
   ]
  },
  {
   "cell_type": "code",
   "execution_count": null,
   "id": "c78bc466",
   "metadata": {},
   "outputs": [],
   "source": [
    "import xarray as xr\n",
    "import pandas as pd\n",
    "import rioxarray\n",
    "from ndpyramid import pyramid_reproject\n",
    "from carbonplan_data.utils import set_zarr_encoding\n",
    "from carbonplan_data.metadata import get_cf_global_attrs"
   ]
  },
  {
   "cell_type": "code",
   "execution_count": null,
   "id": "82cae6b3",
   "metadata": {},
   "outputs": [],
   "source": [
    "save_path = \"gs://carbonplan-maps/v2/demo/\""
   ]
  },
  {
   "cell_type": "markdown",
   "id": "93f9bf24",
   "metadata": {},
   "source": [
    "## 2d (tavg)\n",
    "\n",
    "In this example we open a single 2d image (GeoTIFF) and create a Zarr pyramid.\n"
   ]
  },
  {
   "cell_type": "code",
   "execution_count": null,
   "id": "2cb2980e",
   "metadata": {},
   "outputs": [],
   "source": [
    "# input dataset\n",
    "path = \"https://storage.googleapis.com/carbonplan-share/maps-demo/raw/wc2.1_2.5m_tavg_10.tif\"\n",
    "\n",
    "# open and extract the input dataset\n",
    "ds = (\n",
    "    xr.open_rasterio(path)\n",
    "    .to_dataset(name=\"tavg\")\n",
    "    .squeeze()\n",
    "    .reset_coords([\"band\"], drop=True)\n",
    ")\n",
    "\n",
    "# create the pyramid\n",
    "dt = pyramid_reproject(ds, levels=6)\n",
    "\n",
    "# modify the data in the pyramid\n",
    "for child in dt.children:\n",
    "    child.ds = set_zarr_encoding(\n",
    "        child.ds, codec_config={\"id\": \"zlib\", \"level\": 1}, float_dtype=\"float32\"\n",
    "    )\n",
    "    child.ds = child.ds.chunk({\"x\": 128, \"y\": 128})\n",
    "    child.ds[\"tavg\"].attrs.clear()\n",
    "dt.attrs = get_cf_global_attrs()\n",
    "\n",
    "# write the pyramid to zarr\n",
    "dt.to_zarr(save_path + \"2d/tavg\", consolidated=True)"
   ]
  },
  {
   "cell_type": "markdown",
   "id": "bf815f35",
   "metadata": {},
   "source": [
    "## 3d, two variables (tavg and prec)\n",
    "\n",
    "In this example, we open two 2d images (temperature and precipitation), combine\n",
    "them into a single array (along the `band` dimension), and create a Zarr\n",
    "pyramid.\n"
   ]
  },
  {
   "cell_type": "code",
   "execution_count": null,
   "id": "497bc59b",
   "metadata": {},
   "outputs": [],
   "source": [
    "# input datasets\n",
    "path1 = \"https://storage.googleapis.com/carbonplan-share/maps-demo/raw/wc2.1_2.5m_tavg_10.tif\"\n",
    "path2 = \"https://storage.googleapis.com/carbonplan-share/maps-demo/raw/wc2.1_2.5m_prec_10.tif\"\n",
    "\n",
    "# open and extract the input datasets\n",
    "ds1 = (\n",
    "    xr.open_rasterio(path1)\n",
    "    .to_dataset(name=\"climate\")\n",
    "    .squeeze()\n",
    "    .reset_coords([\"band\"], drop=True)\n",
    ")\n",
    "ds2 = (\n",
    "    xr.open_rasterio(path2)\n",
    "    .to_dataset(name=\"climate\")\n",
    "    .squeeze()\n",
    "    .reset_coords([\"band\"], drop=True)\n",
    ")\n",
    "ds2[\"climate\"] = ds2[\"climate\"].astype(\"float32\")\n",
    "ds2[\"climate\"].values[\n",
    "    ds2[\"climate\"].values == ds2[\"climate\"].values[0, 0]\n",
    "] = ds1[\"climate\"].values[0, 0]\n",
    "ds = xr.concat([ds1, ds2], pd.Index([\"tavg\", \"prec\"], name=\"band\"))\n",
    "ds[\"band\"] = ds[\"band\"].astype(\"str\")\n",
    "\n",
    "# create the pyramid\n",
    "dt = pyramid_reproject(ds, levels=6)\n",
    "\n",
    "# modify the data in the pyramid\n",
    "for child in dt.children:\n",
    "    child.ds = set_zarr_encoding(\n",
    "        child.ds, codec_config={\"id\": \"zlib\", \"level\": 1}, float_dtype=\"float32\"\n",
    "    )\n",
    "    child.ds = child.ds.chunk({\"x\": 128, \"y\": 128, \"band\": 2})\n",
    "    child.ds[\"climate\"].attrs.clear()\n",
    "dt.attrs = get_cf_global_attrs()\n",
    "\n",
    "# write the pyramid to zarr\n",
    "dt.to_zarr(save_path + \"3d/tavg-prec\", consolidated=True)"
   ]
  },
  {
   "cell_type": "markdown",
   "id": "dd9bc965",
   "metadata": {},
   "source": [
    "## 3d, one variable, multiple time points\n",
    "\n",
    "In this example, we open 12 2d images (one map of temperature for each month),\n",
    "combine them into a single array (along the `month` dimension), and create a\n",
    "Zarr pyramid.\n"
   ]
  },
  {
   "cell_type": "code",
   "execution_count": null,
   "id": "460b932b",
   "metadata": {},
   "outputs": [],
   "source": [
    "# open and extract the input datasets\n",
    "ds_all = []\n",
    "months = list(map(lambda d: d + 1, range(12)))\n",
    "for i in months:\n",
    "    path = f\"https://storage.googleapis.com/carbonplan-share/maps-demo/raw/wc2.1_2.5m_tavg_{i:02g}.tif\"\n",
    "    ds = (\n",
    "        xr.open_rasterio(path)\n",
    "        .to_dataset(name=\"tavg\")\n",
    "        .squeeze()\n",
    "        .reset_coords([\"band\"], drop=True)\n",
    "    )\n",
    "    ds_all.append(ds)\n",
    "ds = xr.concat(ds_all, pd.Index(months, name=\"month\"))\n",
    "ds[\"month\"] = ds[\"month\"].astype(\"int32\")\n",
    "\n",
    "# create the pyramid\n",
    "dt = pyramid_reproject(ds, levels=6)\n",
    "\n",
    "# modify the data in the pyramid\n",
    "for child in dt.children:\n",
    "    child.ds = set_zarr_encoding(\n",
    "        child.ds, codec_config={\"id\": \"zlib\", \"level\": 1}, float_dtype=\"float32\"\n",
    "    )\n",
    "    child.ds = child.ds.chunk({\"x\": 128, \"y\": 128, \"month\": 12})\n",
    "    child.ds[\"tavg\"].attrs.clear()\n",
    "dt.attrs = get_cf_global_attrs()\n",
    "\n",
    "# write the pyramid to zarr\n",
    "dt.to_zarr(save_path + \"3d/tavg-month\", consolidated=True)"
   ]
  },
  {
   "cell_type": "markdown",
   "id": "13f562c5",
   "metadata": {},
   "source": [
    "## 4d, multiple variables, multiple time points\n",
    "\n",
    "In this example, we open 12 2d images for 2 variables (one map of temperature\n",
    "and precipitation for each month), combine them into a single array (along the\n",
    "`month` and `band` dimensions), and create a Zarr pyramid.\n"
   ]
  },
  {
   "cell_type": "code",
   "execution_count": null,
   "id": "9094e6a8",
   "metadata": {},
   "outputs": [],
   "source": [
    "# open and extract the input datasets\n",
    "ds1_all = []\n",
    "ds2_all = []\n",
    "months = list(map(lambda d: d + 1, range(12)))\n",
    "for i in months:\n",
    "    path = f\"https://storage.googleapis.com/carbonplan-share/maps-demo/raw/wc2.1_2.5m_tavg_{i:02g}.tif\"\n",
    "    ds = (\n",
    "        xr.open_rasterio(path)\n",
    "        .to_dataset(name=\"climate\")\n",
    "        .squeeze()\n",
    "        .reset_coords([\"band\"], drop=True)\n",
    "    )\n",
    "    ds1_all.append(ds)\n",
    "ds1 = xr.concat(ds1_all, pd.Index(months, name=\"month\"))\n",
    "for i in months:\n",
    "    path = f\"https://storage.googleapis.com/carbonplan-share/maps-demo/raw/wc2.1_2.5m_prec_{i:02g}.tif\"\n",
    "    ds = (\n",
    "        xr.open_rasterio(path)\n",
    "        .to_dataset(name=\"climate\")\n",
    "        .squeeze()\n",
    "        .reset_coords([\"band\"], drop=True)\n",
    "    )\n",
    "    ds2_all.append(ds)\n",
    "ds2 = xr.concat(ds2_all, pd.Index(months, name=\"month\"))\n",
    "ds1[\"month\"] = ds1[\"month\"].astype(\"int32\")\n",
    "ds2[\"month\"] = ds2[\"month\"].astype(\"int32\")\n",
    "ds2[\"climate\"] = ds2[\"climate\"].astype(\"float32\")\n",
    "ds2[\"climate\"].values[\n",
    "    ds2[\"climate\"].values == ds2[\"climate\"].values[0, 0, 0]\n",
    "] = ds1[\"climate\"].values[0, 0, 0]\n",
    "ds = xr.concat([ds1, ds2], pd.Index([\"tavg\", \"prec\"], name=\"band\"))\n",
    "ds[\"band\"] = ds[\"band\"].astype(\"str\")\n",
    "\n",
    "# create the pyramid\n",
    "dt = pyramid_reproject(ds, levels=6, extra_dim=\"band\")\n",
    "for child in dt.children:\n",
    "    child.ds = set_zarr_encoding(\n",
    "        child.ds, codec_config={\"id\": \"zlib\", \"level\": 1}, float_dtype=\"float32\"\n",
    "    )\n",
    "    child.ds = child.ds.chunk({\"x\": 128, \"y\": 128, \"band\": 2, \"month\": 12})\n",
    "    child.ds[\"climate\"].attrs.clear()\n",
    "dt.attrs = get_cf_global_attrs()\n",
    "\n",
    "# write the pyramid to zarr\n",
    "dt.to_zarr(save_path + \"4d/tavg-prec-month\", consolidated=True)"
   ]
  }
 ],
 "metadata": {
  "kernelspec": {
   "display_name": "Python 3",
   "language": "python",
   "name": "python3"
  },
  "language_info": {
   "codemirror_mode": {
    "name": "ipython",
    "version": 3
   },
   "file_extension": ".py",
   "mimetype": "text/x-python",
   "name": "python",
   "nbconvert_exporter": "python",
   "pygments_lexer": "ipython3",
   "version": "3.8.12"
  }
 },
 "nbformat": 4,
 "nbformat_minor": 5
}
